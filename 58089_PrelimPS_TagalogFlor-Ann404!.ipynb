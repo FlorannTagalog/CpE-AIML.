{
 "cells": [
  {
   "cell_type": "markdown",
   "metadata": {
    "id": "fte_zsqVdp8R"
   },
   "source": [
    "# Topic02a : Prelim Problem Set I\n",
    "##### Tagalog, Flor-Ann B.\n",
    "##### Prelim Exam"
   ]
  },
  {
   "cell_type": "markdown",
   "metadata": {
    "id": "JpcY5oJ5eFxA"
   },
   "source": [
    "## Case 1\n",
    "Represent the following representations into its vectorized form using LaTeX.\n",
    "> **Problem 1.a. System of Linear Equations**\n",
    "$$\n",
    "\\left\\{\n",
    "    \\begin{array}\\\\\n",
    "        -y+z=\\frac{1}{32}\\\\ \n",
    "        \\frac{1}{2}x -2y=0 \\\\\n",
    "        -x + \\frac{3}{7}z=\\frac{4}{5}\n",
    "    \\end{array}\n",
    "\\right. $$\n",
    "> **Problem 1.b. Linear Combination**\n",
    "$$  \\cos{(\\theta)}\\hat{i} + \\sin{(\\theta)}\\hat{j} - \\csc{(2\\theta)}\\hat{k}$$\n",
    "> **Problem 1.c. Scenario**\n",
    ">\n",
    ">A conference has 200 student attendees, 45 professionals, and has 15 members of the panel. There is a team of 40 people on the organizing committee. Represent the *percent* composition of each *attendee* type of the conference in matrix form.\n",
    "\n",
    "Express your answers in LaTeX in the answer area.\n"
   ]
  },
  {
   "cell_type": "markdown",
   "metadata": {},
   "source": [
    " **Answers**"
   ]
  },
  {
   "cell_type": "markdown",
   "metadata": {},
   "source": [
    " **Problem 1.a. System of Linear Equations**"
   ]
  },
  {
   "cell_type": "markdown",
   "metadata": {},
   "source": [
    "$$\n",
    "A =\\left[\\begin{matrix}0&-1&1\\\\\n",
    "\\frac{1}{2}&-2&0\\\\-1&0&\\frac{3}{7}\n",
    "\\end{matrix}\n",
    "\\; \\middle| \\; \n",
    "\\begin{matrix}\\frac{1}{32}\\\\\n",
    "0\\\\\n",
    "\\frac{4}{5}\\end{matrix}  \\right]\n",
    "$$"
   ]
  },
  {
   "cell_type": "markdown",
   "metadata": {},
   "source": [
    " **Problem 1.b. Linear Combination**"
   ]
  },
  {
   "cell_type": "markdown",
   "metadata": {},
   "source": [
    "$$\n",
    "    B =\\begin{bmatrix}\\cos{(\\theta)} & \\sin{(\\theta)} & - \\csc{(2\\theta)}\\end{bmatrix}\n",
    "$$"
   ]
  },
  {
   "cell_type": "markdown",
   "metadata": {},
   "source": [
    "**Problem 1.c. Scenario**"
   ]
  },
  {
   "cell_type": "markdown",
   "metadata": {},
   "source": [
    "$$\n",
    "C = \\left[\\begin{matrix}\\frac{2}{3} & \\frac{3}{20} & \\frac{1}{20} & \\frac{2}{15}\\end{matrix} \n",
    "\\; \\middle| \\; \n",
    "\\begin{matrix}1 \\end{matrix}\\right]\n",
    "$$"
   ]
  },
  {
   "cell_type": "markdown",
   "metadata": {
    "id": "Uvb1MGs9QNVt"
   },
   "source": [
    "# Case 2\n",
    "> **Problem 2.a: Vector Magnitude**\n",
    "\n",
    ">The magnitude of a vector is usually computed as:\n",
    "$$||v|| = \\sqrt{a_0^2 + a_1^2 + ... +a_n^2}$$\n",
    "Whereas $v$ is any vector and $a_k$ are its elements wherein $k$ is the size of $v$.\n",
    "Re-formulate $||v||$ as a function of an inner product. Further discuss this concept and provide your user-defined function.\n",
    "\n",
    "> **Problem 2.b: Angle Between Vectors**\n",
    "\n",
    "> Inner products can also be related to the Law of Cosines. The property suggests that:\n",
    "$$u\\cdot v = ||u||\\cdot||v||\\cos(\\theta)$$\n",
    "Whereas $u$ and $v$ are vectors that have the same sizes and $\\theta$ is the angle between $u$ and $v$.\n",
    "\n",
    "> Explain the behavior of the dot product when the two vectors are perpendicular and when they are parallel.\n"
   ]
  },
  {
   "cell_type": "markdown",
   "metadata": {},
   "source": [
    " **Answers**"
   ]
  },
  {
   "cell_type": "markdown",
   "metadata": {},
   "source": [
    "**Problem 2.a: Vector Magnitude**"
   ]
  },
  {
   "cell_type": "markdown",
   "metadata": {},
   "source": [
    "As we know, the vector is an object which has both the magnitude as well as direction. To find the magnitude of a vector, we need to calculate the length of the vector.  \n",
    "The magnitude of a vector formula is used to calculate the length for a given vector (say v) and is denoted as |v|. So basically, this quantity is \n",
    "the length between the initial point and endpoint of the vector [1].\n",
    "$$||v|| = \\sqrt{a_0^2 + a_1^2 + ... +a_n^2}$$"
   ]
  },
  {
   "cell_type": "code",
   "execution_count": 31,
   "metadata": {},
   "outputs": [],
   "source": [
    "import numpy as np\n",
    "import math "
   ]
  },
  {
   "cell_type": "code",
   "execution_count": 34,
   "metadata": {},
   "outputs": [],
   "source": [
    "vector = np.array([20,40,35])"
   ]
  },
  {
   "cell_type": "code",
   "execution_count": 37,
   "metadata": {},
   "outputs": [
    {
     "name": "stdout",
     "output_type": "stream",
     "text": [
      "Vector: [20 40 35]\n",
      "Magnitude of the Vector: 56.789083458002736\n"
     ]
    }
   ],
   "source": [
    "def magnitude(vector): \n",
    "    return math.sqrt(sum(pow(element, 2) for element in vector))\n",
    "print('Vector:', vector)\n",
    "print('Magnitude of the Vector:', magnitude(vector))"
   ]
  },
  {
   "cell_type": "markdown",
   "metadata": {},
   "source": [
    "**Problem 2.b: Angle Between Vectors**"
   ]
  },
  {
   "cell_type": "markdown",
   "metadata": {},
   "source": [
    "The dot product of two vectors is a quantity that describes how much force each vector contributes in the same direction. This value is commonly referred to as the scalar product of the two vectors because it is obtained by multiplying the relevant sections of each vector [2]."
   ]
  },
  {
   "cell_type": "markdown",
   "metadata": {},
   "source": [
    "The maximum value for the dot product occurs when the two vectors are parallel to one another (all “force” from both vectors is in the same direction), but when the two vectors are perpendicular to one another, the value of the dot product is equal to 0 (one vector has zero force aligned in the direction of the other, and any value multiplied by zero is zero) [2]."
   ]
  },
  {
   "cell_type": "markdown",
   "metadata": {
    "id": "_cH8JpkBj1xS"
   },
   "source": [
    "# Case 3\n",
    "For the final cases analysis we will be looking at series of equations building up a single feed-forward computation of a logistic regression. The case will not require you to learn fully what is logistic regression. \n",
    "\n",
    "$$X = \\begin{bmatrix} \n",
    "— (x^{(1)})^T— \\\\ \n",
    "— (x^{(2)})^T— \\\\\n",
    "\\vdots \\\\\n",
    "— (x^{(m)})^T— \\\\\n",
    "\\end{bmatrix} \\text{, } \n",
    "Y = \\begin{bmatrix} \n",
    "y^{(1)} \\\\ \n",
    "y^{(2)} \\\\\n",
    "\\vdots \\\\\n",
    "y^{(m)} \\\\\n",
    "\\end{bmatrix} \\text{, and } \n",
    "\\theta = \\begin{bmatrix} \n",
    "\\theta^{(1)} \\\\ \n",
    "\\theta^{(2)} \\\\\n",
    "\\vdots \\\\\n",
    "\\theta^{(m)} \\\\\n",
    "\\end{bmatrix} $$\n",
    "The dataset $X$ has $m$ entries with $n$ features while $Y$ is the vector containing the groud truths of a the entries of $X$, and $\\theta$ are the parameters or weights of the vectors. We first compute the vector product of the dataset and the parameters as:\n",
    "$$ z = x^{(i)}\\theta^{(i)} = X\\cdot \\theta\\\\_{\\text{Eq. 3.1}}$$\n",
    "We then solve for the hypothesis of the logistic regression alogrithm as:\n",
    "\n",
    "$$ h_\\theta(x) = g(z)\\\\_{\\text{Eq. 3.2}}$$\n",
    "\n",
    "Where $g$ is an acitvation function that maps the values of the hypothesis vector between a range of 0 and 1. We computed the activation as a sigmoid function:\n",
    "$$g(z) = \\frac{1}{1+e^{-z}}\\\\_{\\text{Eq. 3.3}}$$\n",
    "Finally we compute the loss of the logistic regression algorithm using $J$. Wheras $J(\\theta)$ is a function that computes the logistic loss of the hypothesis with respect to the ground truths $y$. it is then computed as:\n",
    "$$J(\\theta) = \\frac{1}{m} \\sum^m_{i=0}=[-y^{(i)}\\log({h_{\\theta}(x^{(i)})})-(1-y^{(i)})\\log(1-h_{\\theta}(x^{(i)}))]\\\\_{\\text{Eq. 3.4}}$$"
   ]
  },
  {
   "cell_type": "markdown",
   "metadata": {
    "id": "MQ8jJV9-qyFy"
   },
   "source": [
    "> **Problem 3.a: Matrix Equivalences**\n",
    "\n",
    "> In Eq. 1, $z$ can also be solved as $X \\cdot \\theta$ which is the vectorized form of $x^{(i)}\\theta^{(i)}$. However, it can also be expressed as $\\theta^T\\cdot X$. Prove the equality of $X \\cdot \\theta$ with $\\theta^T\\cdot X$ in this case.\n",
    "\n",
    "> **Problem 3.b: Matrix Shapes**\n",
    "\n",
    "> Determine the shape of $h_\\theta$ if $X$ has a shape of $(300,5)$.\n",
    "\n",
    "> **Problem 3.c: Vectorization**\n",
    "\n",
    "> Express $J(\\theta)$ into its vectorized form.\n",
    "\n",
    "> **Problem 4.c: Computational Programming (Also Laboratory 2)**\n",
    "\n",
    "> Encode Equations 3.1 to 3.4 as the class `LRegression` wherein:\n",
    "\n",
    "> * `LRegression` should be instantiated with a dataset $X$, a ground truth vector $y$, and a parameter vector $\\theta$. Each parameter should have a data type of `numpy.array`.\n",
    "> * It should further have `methods`reflecting to at least the four (4) aforementioned equations. Each should have a return value.\n"
   ]
  },
  {
   "cell_type": "markdown",
   "metadata": {},
   "source": [
    " **Answers**"
   ]
  },
  {
   "cell_type": "markdown",
   "metadata": {},
   "source": [
    "**Problem 3.a: Matrix Equivalences**"
   ]
  },
  {
   "cell_type": "markdown",
   "metadata": {},
   "source": [
    "$\\theta^T\\cdot X$ given that $z$ can also be solved as $X \\cdot \\theta$ which is illustrated in equation 3.1\n",
    "$$X = \\begin{bmatrix} \n",
    "— (x^{(1)})^T— \\ \n",
    "— (x^{(2)})^T— \\\n",
    "\\vdots \\\n",
    "— (x^{(m)})^T— \\\n",
    "\\end{bmatrix} \\text{, } \n",
    "\\theta = \\begin{bmatrix} \n",
    "\\theta^{(1)} \\ \n",
    "\\theta^{(2)} \\\n",
    "\\vdots \\\n",
    "\\theta^{(m)} \\\n",
    "\\end{bmatrix} $$\n",
    "\n",
    "then compute for the vector product of the dataset and the parameters $$ z = X\\cdot \\theta$$ we get:\n",
    "\n",
    "$$z = \\begin{bmatrix} \n",
    "— (x^{(1)})^T\\theta— \\ \n",
    "— (x^{(2)})^T\\theta-\\\n",
    "\\vdots \\\n",
    "— (x^{(m)})^T\\theta— \\\n",
    "\\end{bmatrix}$$\n",
    "\n",
    "\n",
    " then using commutative principle to $ z = X\\cdot \\theta$ which is the vectorized form of $x^{(i)^T} \\theta^{(i)}$ , this is equal to \n",
    "\n",
    "$$ z = \\theta^T\\cdot X$$ \n",
    "\n",
    "$$z = \\begin{bmatrix} \n",
    "—\\theta^T(x^{(1)})— \\ \n",
    "—\\theta^T(x^{(2)})-\\\n",
    "\\vdots \\\n",
    "—\\theta^T(x^{(m)})— \\\n",
    "\\end{bmatrix}$$\n",
    "\n",
    "Hence, \n",
    "$$z = \\begin{bmatrix} \n",
    "— (x^{(1)})^T\\theta— \\ \n",
    "— (x^{(2)})^T\\theta-\\\n",
    "\\vdots \\\n",
    "— (x^{(m)})^T\\theta— \\\n",
    "\\end{bmatrix} \n",
    "= \\begin{bmatrix} \n",
    "—\\theta^T(x^{(1)})— \\ \n",
    "—\\theta^T(x^{(2)})-\\\n",
    "\\vdots \\\n",
    "—\\theta^T(x^{(m)})— \\\n",
    "\\end{bmatrix} $$"
   ]
  },
  {
   "cell_type": "markdown",
   "metadata": {},
   "source": [
    "**Problem 3.b: Matrix Shapes**"
   ]
  },
  {
   "cell_type": "markdown",
   "metadata": {},
   "source": [
    "Given that the Shape of X: $$ X = (300, 5) $$\n",
    "and the Shape of $\\theta$\n",
    "$$ \\theta = (m, 1) $$  where:\n",
    "$$ X =  (x^{(m)})^T $$\n",
    "m = 300<br>\n",
    "Therefore the Shape is: \n",
    "$$h_\\theta = (300,1) $$"
   ]
  },
  {
   "cell_type": "markdown",
   "metadata": {},
   "source": [
    "**Problem 3.c: Vectorization**"
   ]
  },
  {
   "cell_type": "markdown",
   "metadata": {},
   "source": [
    "$$\n",
    "J(\\theta) = \\frac{1}{m} \\sum^m_{i=0}=[-y^{(i)}\\log(g(z))-(1-y^{(i)})\\log(1-h_{\\theta}(x^{(i)}))]\\\n",
    "$$\n",
    "\n",
    "$$\n",
    "    X = \\begin{bmatrix} \n",
    "    -y^{(1)}\\log(g(z)) \\\\ \n",
    "    -y^{(2)}\\log(g(z)) \\\\\n",
    "    \\vdots \\\\\n",
    "    -y^{(n)}\\log(g(z)) \\\\\n",
    "    \\end{bmatrix} \\text{, }\n",
    "    \\theta = \\begin{bmatrix} \n",
    "    (1-y^{(1)})\\log(1-h_{\\theta}(x^{(1)})) \\\\ \n",
    "    (1-y^{(2)})\\log(1-h_{\\theta}(x^{(2)})) \\\\\n",
    "    \\vdots \\\\\n",
    "    (1-y^{(n)})\\log(1-h_{\\theta}(x^{(n)})) \\\\\n",
    "    \\end{bmatrix}\n",
    "$$"
   ]
  },
  {
   "cell_type": "markdown",
   "metadata": {},
   "source": [
    "**Problem 4.c: Computational Programming (Also Laboratory 2)**"
   ]
  },
  {
   "cell_type": "code",
   "execution_count": null,
   "metadata": {},
   "outputs": [],
   "source": []
  },
  {
   "cell_type": "markdown",
   "metadata": {},
   "source": [
    "**References:**"
   ]
  },
  {
   "cell_type": "markdown",
   "metadata": {},
   "source": [
    "\n",
    "[1]\"How to get the magnitude of a vector in NumPy?\", GeeksForGeeks. [Online]. Available: https://www.geeksforgeeks.org/how-to-get-the-magnitude-of-a-vector-in-numpy/. [Accessed: 24 September 2021].<br>\n",
    "[2]\" Scalar or Dot Product of Two Vectors\",cK-12. [Online]. Available:https://www.ck12.org/book/cbse-maths-book-class-12/section/11.6/ [Accessed: 24 September 2021]."
   ]
  }
 ],
 "metadata": {
  "colab": {
   "name": "fund-aiml-02v1-2021.ipynb",
   "provenance": []
  },
  "kernelspec": {
   "display_name": "Python 3",
   "language": "python",
   "name": "python3"
  },
  "language_info": {
   "codemirror_mode": {
    "name": "ipython",
    "version": 3
   },
   "file_extension": ".py",
   "mimetype": "text/x-python",
   "name": "python",
   "nbconvert_exporter": "python",
   "pygments_lexer": "ipython3",
   "version": "3.8.8"
  }
 },
 "nbformat": 4,
 "nbformat_minor": 4
}
